{
 "cells": [
  {
   "cell_type": "code",
   "execution_count": 1,
   "metadata": {},
   "outputs": [],
   "source": [
    "import sys\n",
    "import os\n",
    "from dotenv import load_dotenv\n",
    "\n",
    "load_dotenv()\n",
    "work_dir = os.getenv('WORK_DIR')\n",
    "sys.path.append(work_dir)"
   ]
  },
  {
   "cell_type": "code",
   "execution_count": 2,
   "metadata": {},
   "outputs": [],
   "source": [
    "from src.model.models import CardioTrainNormalize, GlucoseTypes, CholesterolTypes\n",
    "from src.database.dbconnection import getconnection\n",
    "from sqlalchemy import inspect\n",
    "from sqlalchemy.orm import sessionmaker\n",
    "from sqlalchemy.exc import SQLAlchemyError\n",
    "from transform.TransformData import DataTransform"
   ]
  },
  {
   "cell_type": "code",
   "execution_count": 3,
   "metadata": {},
   "outputs": [
    {
     "name": "stdout",
     "output_type": "stream",
     "text": [
      "Conected successfully to database proyect!\n"
     ]
    }
   ],
   "source": [
    "engine = getconnection()\n",
    "Session = sessionmaker(bind=engine)\n",
    "session = Session()"
   ]
  },
  {
   "cell_type": "code",
   "execution_count": 4,
   "metadata": {},
   "outputs": [
    {
     "name": "stdout",
     "output_type": "stream",
     "text": [
      "Table created successfully.\n"
     ]
    }
   ],
   "source": [
    "try:\n",
    "    if inspect(engine).has_table('GlucoseTypes'):\n",
    "        if inspect(engine).has_table('CardioTrainNormalize'):\n",
    "            CardioTrainNormalize.__table__.drop(engine)\n",
    "        GlucoseTypes.__table__.drop(engine, checkfirst=True)\n",
    "    GlucoseTypes.__table__.create(engine)\n",
    "    print(\"Table created successfully.\")\n",
    "except SQLAlchemyError as e:\n",
    "    print(f\"Error creating table: {e}\")\n",
    "finally:\n",
    "    engine.dispose()"
   ]
  },
  {
   "cell_type": "code",
   "execution_count": 5,
   "metadata": {},
   "outputs": [
    {
     "name": "stdout",
     "output_type": "stream",
     "text": [
      "Table created successfully.\n"
     ]
    }
   ],
   "source": [
    "try:\n",
    "    if inspect(engine).has_table('CholesterolTypes'):\n",
    "        if inspect(engine).has_table('CardioTrainNormalize'):\n",
    "            CardioTrainNormalize.__table__.drop(engine)\n",
    "        CholesterolTypes.__table__.drop(engine, checkfirst=True)\n",
    "    CholesterolTypes.__table__.create(engine)\n",
    "    print(\"Table created successfully.\")\n",
    "except SQLAlchemyError as e:\n",
    "    print(f\"Error creating table: {e}\")\n",
    "finally:\n",
    "    engine.dispose()"
   ]
  },
  {
   "cell_type": "code",
   "execution_count": 6,
   "metadata": {},
   "outputs": [
    {
     "name": "stdout",
     "output_type": "stream",
     "text": [
      "Table created successfully.\n"
     ]
    }
   ],
   "source": [
    "try:\n",
    "    if inspect(engine).has_table('CardioTrainNormalize'):\n",
    "        CardioTrainNormalize.__table__.drop(engine)\n",
    "    CardioTrainNormalize.__table__.create(engine)\n",
    "    print(\"Table created successfully.\")\n",
    "except SQLAlchemyError as e:\n",
    "    print(f\"Error creating table: {e}\")\n",
    "finally:\n",
    "    engine.dispose()"
   ]
  },
  {
   "cell_type": "code",
   "execution_count": 7,
   "metadata": {},
   "outputs": [
    {
     "name": "stdout",
     "output_type": "stream",
     "text": [
      "Data uploaded\n"
     ]
    }
   ],
   "source": [
    "try:\n",
    "    file = DataTransform('../data/cardio_train.csv')\n",
    "    file.gender_by_category()\n",
    "    file.cholesterol_by_category()\n",
    "    file.gluc_by_category()\n",
    "    file.IMC()\n",
    "    file.days_to_age()\n",
    "\n",
    "\n",
    "     \n",
    "    transform_gluc = file.nomalize_gluc()\n",
    "    transform_cholesterol = file.normalize_cholesterol()\n",
    "\n",
    "    \n",
    "    transform_gluc.to_sql('GlucoseTypes', con=engine, if_exists='append', index=False)\n",
    "    transform_cholesterol.to_sql('CholesterolTypes', con=engine, if_exists='append', index=False)\n",
    "    file.df.to_sql('CardioTrainNormalize', con=engine, if_exists='append', index=False)\n",
    "\n",
    "    print(\"Data uploaded\")\n",
    "\n",
    "except SQLAlchemyError as e:\n",
    "    print(f\"Database error: {e}\")\n",
    "\n",
    "except Exception as e:\n",
    "    print(f\"Error: {e}\")\n",
    "\n",
    "finally:\n",
    "    if hasattr(engine, 'dispose'):\n",
    "        engine.dispose()\n",
    "    if 'session' in locals():\n",
    "        session.close()"
   ]
  }
 ],
 "metadata": {
  "kernelspec": {
   "display_name": "venv",
   "language": "python",
   "name": "python3"
  },
  "language_info": {
   "codemirror_mode": {
    "name": "ipython",
    "version": 3
   },
   "file_extension": ".py",
   "mimetype": "text/x-python",
   "name": "python",
   "nbconvert_exporter": "python",
   "pygments_lexer": "ipython3",
   "version": "3.12.1"
  }
 },
 "nbformat": 4,
 "nbformat_minor": 2
}
